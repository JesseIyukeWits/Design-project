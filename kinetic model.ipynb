{
 "cells": [
  {
   "cell_type": "markdown",
   "metadata": {},
   "source": [
    "# Modelling Electric Vehicle Consumption"
   ]
  },
  {
   "cell_type": "markdown",
   "metadata": {},
   "source": [
    "## Import Libaries"
   ]
  },
  {
   "cell_type": "code",
   "execution_count": 151,
   "metadata": {},
   "outputs": [],
   "source": [
    "import pandas as pd\n",
    "import os\n",
    "import numpy as np\n",
    "from numpy import inf\n",
    "import datetime\n",
    "from datetime import datetime, timedelta\n",
    "import descartes\n",
    "import geopy.distance\n",
    "from pathlib import Path"
   ]
  },
  {
   "cell_type": "markdown",
   "metadata": {},
   "source": [
    "## Load Data"
   ]
  },
  {
   "cell_type": "code",
   "execution_count": 152,
   "metadata": {},
   "outputs": [
    {
     "data": {
      "text/html": [
       "<div>\n",
       "<style scoped>\n",
       "    .dataframe tbody tr th:only-of-type {\n",
       "        vertical-align: middle;\n",
       "    }\n",
       "\n",
       "    .dataframe tbody tr th {\n",
       "        vertical-align: top;\n",
       "    }\n",
       "\n",
       "    .dataframe thead th {\n",
       "        text-align: right;\n",
       "    }\n",
       "</style>\n",
       "<table border=\"1\" class=\"dataframe\">\n",
       "  <thead>\n",
       "    <tr style=\"text-align: right;\">\n",
       "      <th></th>\n",
       "      <th>Date</th>\n",
       "      <th>Time</th>\n",
       "      <th>Latitude</th>\n",
       "      <th>Longitude</th>\n",
       "      <th>Altitude</th>\n",
       "      <th>Speed</th>\n",
       "      <th>Heading</th>\n",
       "      <th>Signal Quality</th>\n",
       "      <th>Number of Satalites Connected</th>\n",
       "      <th>X-Axis Acceleration</th>\n",
       "      <th>Y-Axis Acceleration</th>\n",
       "      <th>Z-Axis Acceleration</th>\n",
       "    </tr>\n",
       "  </thead>\n",
       "  <tbody>\n",
       "    <tr>\n",
       "      <th>0</th>\n",
       "      <td>12/4/2022</td>\n",
       "      <td>7:20:20</td>\n",
       "      <td>-33.89134</td>\n",
       "      <td>18.95951</td>\n",
       "      <td>235.9</td>\n",
       "      <td>1.09</td>\n",
       "      <td>37.18</td>\n",
       "      <td>2</td>\n",
       "      <td>9</td>\n",
       "      <td>0.194</td>\n",
       "      <td>-0.022</td>\n",
       "      <td>1.008</td>\n",
       "    </tr>\n",
       "    <tr>\n",
       "      <th>1</th>\n",
       "      <td>12/4/2022</td>\n",
       "      <td>7:20:22</td>\n",
       "      <td>-33.89134</td>\n",
       "      <td>18.95952</td>\n",
       "      <td>235.9</td>\n",
       "      <td>1.09</td>\n",
       "      <td>36.87</td>\n",
       "      <td>2</td>\n",
       "      <td>9</td>\n",
       "      <td>0.154</td>\n",
       "      <td>-0.032</td>\n",
       "      <td>1.010</td>\n",
       "    </tr>\n",
       "    <tr>\n",
       "      <th>2</th>\n",
       "      <td>12/4/2022</td>\n",
       "      <td>7:20:24</td>\n",
       "      <td>-33.89134</td>\n",
       "      <td>18.95952</td>\n",
       "      <td>235.9</td>\n",
       "      <td>0.41</td>\n",
       "      <td>36.87</td>\n",
       "      <td>2</td>\n",
       "      <td>9</td>\n",
       "      <td>0.134</td>\n",
       "      <td>0.064</td>\n",
       "      <td>1.004</td>\n",
       "    </tr>\n",
       "    <tr>\n",
       "      <th>3</th>\n",
       "      <td>12/4/2022</td>\n",
       "      <td>7:20:25</td>\n",
       "      <td>-33.89134</td>\n",
       "      <td>18.95952</td>\n",
       "      <td>235.9</td>\n",
       "      <td>0.33</td>\n",
       "      <td>36.87</td>\n",
       "      <td>2</td>\n",
       "      <td>9</td>\n",
       "      <td>0.068</td>\n",
       "      <td>0.096</td>\n",
       "      <td>1.024</td>\n",
       "    </tr>\n",
       "    <tr>\n",
       "      <th>4</th>\n",
       "      <td>12/4/2022</td>\n",
       "      <td>7:20:27</td>\n",
       "      <td>-33.89134</td>\n",
       "      <td>18.95952</td>\n",
       "      <td>235.9</td>\n",
       "      <td>0.31</td>\n",
       "      <td>36.87</td>\n",
       "      <td>2</td>\n",
       "      <td>9</td>\n",
       "      <td>0.072</td>\n",
       "      <td>0.114</td>\n",
       "      <td>1.020</td>\n",
       "    </tr>\n",
       "  </tbody>\n",
       "</table>\n",
       "</div>"
      ],
      "text/plain": [
       "        Date     Time  Latitude  Longitude  Altitude  Speed  Heading  \\\n",
       "0  12/4/2022  7:20:20 -33.89134   18.95951     235.9   1.09    37.18   \n",
       "1  12/4/2022  7:20:22 -33.89134   18.95952     235.9   1.09    36.87   \n",
       "2  12/4/2022  7:20:24 -33.89134   18.95952     235.9   0.41    36.87   \n",
       "3  12/4/2022  7:20:25 -33.89134   18.95952     235.9   0.33    36.87   \n",
       "4  12/4/2022  7:20:27 -33.89134   18.95952     235.9   0.31    36.87   \n",
       "\n",
       "   Signal Quality  Number of Satalites Connected  X-Axis Acceleration  \\\n",
       "0               2                              9                0.194   \n",
       "1               2                              9                0.154   \n",
       "2               2                              9                0.134   \n",
       "3               2                              9                0.068   \n",
       "4               2                              9                0.072   \n",
       "\n",
       "   Y-Axis Acceleration  Z-Axis Acceleration  \n",
       "0               -0.022                1.008  \n",
       "1               -0.032                1.010  \n",
       "2                0.064                1.004  \n",
       "3                0.096                1.024  \n",
       "4                0.114                1.020  "
      ]
     },
     "execution_count": 152,
     "metadata": {},
     "output_type": "execute_result"
    }
   ],
   "source": [
    "LoadData = pd.read_csv('UnitMain_9.csv')\n",
    "LoadData.head()"
   ]
  },
  {
   "cell_type": "markdown",
   "metadata": {},
   "source": [
    "## Calculations"
   ]
  },
  {
   "cell_type": "code",
   "execution_count": 153,
   "metadata": {},
   "outputs": [],
   "source": [
    "def readFile():\n",
    "    journey = pd.read_csv('UnitMain_9.csv') #should come right from the database\n",
    "    # Join date and time columns into one column\n",
    "    journey['DateTime'] = pd.to_datetime(journey['Date'] + journey['Time'], format = '%m/%d/%Y%H:%M:%S')\n",
    "\n",
    "    # Error dection 1- Check if the time logger got stuck for a second, and correct if so\n",
    "    for i in range(len(journey) - 1):\n",
    "        if journey['DateTime'][i] == journey['DateTime'][i + 1]:\n",
    "            journey['DateTime'][i + 1] += timedelta(seconds = 1)\n",
    "\n",
    "    # Convert speed in km/h to m/s \n",
    "    #neglect small velocities for instances like rolling etc\n",
    "    # Reccomadations- consider velocities that are too high\n",
    "    journey['Velocity'] = np.where(journey['Speed'] >= 0.5, journey['Speed']/3.6, 0)\n",
    "\n",
    "    #Calculate elevation change\n",
    "    #Reccomadation:  Wont need this as device gives angle\n",
    "    journey['ElevChange'] = np.where(abs(journey['Altitude'].shift(-1) - journey['Altitude']) >= 0.2, journey['Altitude'].shift(-1) - journey['Altitude'], 0)\n",
    "\n",
    "    # Calculate time between samples. Useful for kinetic model. \n",
    "    # This is needed because some samples are 1/2Hz. \n",
    "    journey['DeltaT'] = journey['DateTime'].shift(-1) - journey['DateTime']\n",
    "    journey.DeltaT = journey['DeltaT']/ np.timedelta64(1, 's') # Convert from timedelta to float\n",
    "\n",
    "    # Calculate change in velocity between each timestep \n",
    "    journey['DeltaV'] = journey['Velocity'].shift(-1) - journey['Velocity']\n",
    "\n",
    "    # Calculate acceleration\n",
    "    journey['Acceleration'] = np.where(journey['DeltaT'] > 0, journey['DeltaV']/journey['DeltaT'], 0)\n",
    "\n",
    "    # Joins lat/lon Coords into one column, useful for getDist function\n",
    "    journey['Coordinates'] = list(zip(journey.Latitude, journey.Longitude))\n",
    "    return journey\n"
   ]
  },
  {
   "cell_type": "markdown",
   "metadata": {},
   "source": [
    "## Raw data"
   ]
  },
  {
   "cell_type": "code",
   "execution_count": 154,
   "metadata": {},
   "outputs": [],
   "source": [
    "'''reads the data files using the readFile function, \n",
    "and returns a nested dictionary containing all trip files '''\n",
    "\n",
    "def rawData():\n",
    "    rawTrips = {} # Dictionary to store trip in as dataframes\n",
    "    thisTrip = readFile()\n",
    "    unit= 'Device A' #consider multple devices\n",
    "    rawTrips[unit]={}\n",
    "    rawTrips[unit] = thisTrip\n",
    "\n",
    "    return rawTrips"
   ]
  },
  {
   "cell_type": "markdown",
   "metadata": {},
   "source": [
    "## Slope and distance functions"
   ]
  },
  {
   "cell_type": "code",
   "execution_count": 155,
   "metadata": {},
   "outputs": [],
   "source": [
    "# Inputs: dataframe with vehicle journey data\n",
    "# Will need distance not slope\n",
    "def getDistSlope(journey):\n",
    "    #initilise\n",
    "    Distance = np.zeros(len(journey))\n",
    "    Slope = np.zeros(len(journey))\n",
    "    l_route = journey.shape[0]\n",
    "\n",
    "    for i in range(0,l_route-1): \n",
    "        elev_change = journey['Altitude'][i + 1] - journey['Altitude'][i]\n",
    "        if abs(elev_change) < 0.2:\n",
    "            elev_change = 0\n",
    "        \n",
    "        dist_lateral = geopy.distance.geodesic(journey.Coordinates.iloc[i],  # (m) Lateral distance between two lat/lon coord pairs\n",
    "                                       journey.Coordinates.iloc[i+1]).m\n",
    "        dist_3d = np.sqrt(dist_lateral**2 + elev_change**2)  # (m) 3D Distance using pythogoras to account for elevation change\n",
    "        if i == 0:\n",
    "            Distance[i] = 0\n",
    "        else:\n",
    "            Distance[i] = dist_3d\n",
    "        if Distance[i] != 0 and elev_change != 0:\n",
    "            Slope[i] = np.arcsin(elev_change/dist_3d)\n",
    "    journey['Displacement_m'] = list(Distance) # Used for computing kWh/km \n",
    "    journey['slope_rad'] = list(Slope) "
   ]
  },
  {
   "cell_type": "markdown",
   "metadata": {},
   "source": [
    "## External forces functions"
   ]
  },
  {
   "cell_type": "code",
   "execution_count": 156,
   "metadata": {},
   "outputs": [],
   "source": [
    "# Rolling Resistance (road friction) (N)\n",
    "def getRollingResistance(mass, c_rr, slope, vel, grav = 9.81): #c_rr is coeff of rolling resistance\n",
    "    rr = 0\n",
    "    if vel > 0.3:\n",
    "        rr = -mass * grav * c_rr * np.cos(slope)\n",
    "    return rr\n",
    " \n",
    "# Aerodynamic Drag Force (N)\n",
    "def getAerodynamicDrag(c_d, A, vel, rho = 1.184): # rho is air density 20C, c_d is air drag coeff\n",
    "    return -0.50 * rho * c_d * A * vel**2\n",
    "\n",
    "# Road Slope Force (N)\n",
    "def getRoadSlopeDrag(mass, slope, grav = 9.81):\n",
    "    return -mass * grav * np.sin(slope)\n",
    "\n",
    "    ## Wheel rotation, engine rotation etc\n",
    "    "
   ]
  },
  {
   "cell_type": "code",
   "execution_count": 157,
   "metadata": {},
   "outputs": [],
   "source": [
    "class Drivecycle: \n",
    "    \"\"\"\n",
    "    Inputs: dataframe with journey info\n",
    "    \"\"\"\n",
    "    def __init__(self, journey): \n",
    "        self.displacement = journey.Displacement_m # m\n",
    "        self.velocity = journey.Velocity # m/s\n",
    "        self.acceleration = journey.Acceleration #m/s^2\n",
    "        self.slope = journey.slope_rad # rad\n",
    "        self.dt = journey.DeltaT # Time elapsed between each timestamp\n",
    "        self.dv = journey.DeltaV\n",
    "        "
   ]
  },
  {
   "cell_type": "markdown",
   "metadata": {},
   "source": [
    "## Vehicle class"
   ]
  },
  {
   "cell_type": "code",
   "execution_count": 158,
   "metadata": {},
   "outputs": [],
   "source": [
    "class Vehicle:\n",
    "    \"\"\"\n",
    "    Inputs: Physical parameters of vehicle for modeling energy consumption\n",
    "    Returns an array of vehicle energy consumption at each timestamp \"\"\"\n",
    "\n",
    "    def __init__(self, mass, cd, crr, A, eff, rgbeff, p0):\n",
    "\n",
    "        # Vehicle physical parameters\n",
    "        self.mass = mass # (kg) Total veh weight including payload\n",
    "        self.crr = crr # Rolling resistance coeff\n",
    "        self.cd = cd  # Air drag coeff\n",
    "        self.A = A # (m^2) Approximation of vehicle frontal area \n",
    "        self.eff = eff # Powertrain efficiency\n",
    "        self.rgbeff = rgbeff # Recuperative braking efficiency\n",
    "        self.p0 = p0 # (W) Constant power loss (to power auxiliary vehicle systems)\n",
    "\n",
    "    # Computes energy expenditure from a Drivecycle object\n",
    "    def getEnergyExpenditure(self,cycle):\n",
    "        \n",
    "        v = cycle.velocity # (m/s) \n",
    "        s = cycle.slope # (rad)\n",
    "        a = cycle.acceleration # (m/s^2)\n",
    "        dt = cycle.dt # (s)\n",
    "        d = cycle.displacement # (m)\n",
    "        dv = cycle.dv # (m/s)\n",
    "            \n",
    "            \n",
    "        Er = [] # Total energy consumption (J), from battery if positive, to battery if negative (RGbrake)\n",
    "                \n",
    "        for slope,vel,acc,delta_t, delta_v in zip(s,v,a,dt,dv):\n",
    "            \n",
    "            force, frr, fad, fsd = 0,0,0,0\n",
    "            \n",
    "            if vel != 0: #No drag if velocity = 0\n",
    "                frr = getRollingResistance(self.mass,self.crr, slope, vel) # (N)\n",
    "                fad = getAerodynamicDrag(self.cd, self.A, vel) # (N)\n",
    "                fsd = getRoadSlopeDrag(self.mass, slope) # (N)\n",
    "                \n",
    "            force = frr + fad + fsd # (N)\n",
    "            \n",
    "            exp_speed_delta = force * delta_t / self.mass # (N-s/kg)\n",
    "            \n",
    "            unexp_speed_delta = delta_v - exp_speed_delta # (m/s)\n",
    "            \n",
    "            try:\n",
    "                prop_brake_force = self.mass * unexp_speed_delta / delta_t # (kg * m/s)/(s) = (N)\n",
    "            \n",
    "                kinetic_power = prop_brake_force * vel # (N)*(m/s) = (W)\n",
    "                \n",
    "                propultion_work = kinetic_power * delta_t  # (W)*(s) = (J) \n",
    "                \n",
    "            except ZeroDivisionError:\n",
    "                prop_brake_force = 0\n",
    "                kinetic_power = 0\n",
    "                propultion_work = 0\n",
    "\n",
    "            Er.append(propultion_work) # (J)\n",
    "\n",
    "        ErP = [0.0]*len(Er)\n",
    "        ErB = [0.0]*len(Er)\n",
    "\n",
    "        for i in range(len(Er)):            \n",
    "            if Er[i] > 0: # Propulsion Energy \n",
    "                ErP[i] = Er[i]/self.eff # (J)\n",
    "                \n",
    "            elif Er[i] < 0: # Recuperated Energy (from regen braking system)\n",
    "                ErB[i]= Er[i]*self.rgbeff # (J)\n",
    "    \n",
    "    \n",
    "    \n",
    "        return ErP,ErB "
   ]
  },
  {
   "cell_type": "markdown",
   "metadata": {},
   "source": [
    "## Process data"
   ]
  },
  {
   "cell_type": "code",
   "execution_count": 159,
   "metadata": {},
   "outputs": [],
   "source": [
    "def processData(trip_dict):\n",
    "    processed_trips = trip_dict #initialize dictionary of same structure\n",
    "    for unit,journey in trip_dict.items(): #loop through values(dataframe)\n",
    "                \n",
    "                print(\"Processing journey:\", unit)\n",
    "                p0=100\n",
    "                minibus = Vehicle(mass = 3900, cd = 0.36, crr = 0.02, A = 4.0, eff = 0.90, rgbeff = 0.65, p0 = 100)\n",
    "                \n",
    "                \n",
    "                \n",
    "                getDistSlope(journey)\n",
    "                drvcycle = Drivecycle(journey)\n",
    "\n",
    "                #drvcycle= getDistSlope(journey) # Augment journey dataframe with distance and slope columns, Create drivecycle object with trip data\n",
    "                \n",
    "                # Compute energy expenditure (with and without regenerative braking)\n",
    "                journey['Propultion Work (J)'],journey['Braking Work (J)'] = minibus.getEnergyExpenditure(drvcycle)\n",
    "                journey['Offload Work (J)'] = journey['DeltaT'] * p0 #  (J)\n",
    "\n",
    "                journey['Energy Consumption (kWh)'] = (journey['Propultion Work (J)'] + journey['Braking Work (J)'] + journey['Offload Work (J)'])/3.6e6 # (kWh)                \n",
    "            \n",
    "                #Drop duplicate and intermediate calculation columns to reduce clutter\n",
    "                journey = journey.drop(['DeltaT', 'slope_rad', 'Velocity', 'DeltaV',\n",
    "                                       'Acceleration', 'Coordinates', 'DateTime', 'ElevChange'], axis = 1)\n",
    "                \n",
    "                #Insert processed journey into dictionary\n",
    "                processed_trips[unit] = journey\n",
    "                \n",
    "    return processed_trips"
   ]
  },
  {
   "cell_type": "markdown",
   "metadata": {},
   "source": [
    "## Calling read and process functions"
   ]
  },
  {
   "cell_type": "code",
   "execution_count": 160,
   "metadata": {},
   "outputs": [
    {
     "name": "stdout",
     "output_type": "stream",
     "text": [
      "Processing journey: Device A\n"
     ]
    }
   ],
   "source": [
    "rawTrips = rawData()\n",
    "processed_trips = processData(rawTrips)"
   ]
  },
  {
   "cell_type": "markdown",
   "metadata": {},
   "source": [
    "## Analyse"
   ]
  },
  {
   "cell_type": "code",
   "execution_count": 161,
   "metadata": {},
   "outputs": [
    {
     "name": "stdout",
     "output_type": "stream",
     "text": [
      "       Energy Consumption (kWh)\n",
      "count                      1.00\n",
      "mean                       0.32\n",
      "std                         NaN\n",
      "min                        0.32\n",
      "25%                        0.32\n",
      "50%                        0.32\n",
      "75%                        0.32\n",
      "max                        0.32\n"
     ]
    }
   ],
   "source": [
    "#summary statistics on energy consumptions \n",
    "energy_consumption = []\n",
    "\n",
    "for unit,journey_df in processed_trips.items():\n",
    "    energy_consumption.append(journey_df['Energy Consumption (kWh)'].sum()/(journey_df['Displacement_m'].sum()/1e3))\n",
    "\n",
    "summ_df = pd.DataFrame({'Energy Consumption (kWh)': pd.Series(energy_consumption)})\n",
    "\n",
    "print(round(summ_df.describe(),2))\n",
    "\n",
    "#Write to csv file- or send to database\n",
    "summ_df.to_csv('EnergyConsumption.csv', index=False)"
   ]
  }
 ],
 "metadata": {
  "kernelspec": {
   "display_name": "Python 3.9.7 ('base')",
   "language": "python",
   "name": "python3"
  },
  "language_info": {
   "codemirror_mode": {
    "name": "ipython",
    "version": 3
   },
   "file_extension": ".py",
   "mimetype": "text/x-python",
   "name": "python",
   "nbconvert_exporter": "python",
   "pygments_lexer": "ipython3",
   "version": "3.9.7"
  },
  "orig_nbformat": 4,
  "vscode": {
   "interpreter": {
    "hash": "188217e3575a587e528f3573d3601ad940116c535ed800b8909a2afb65859ba7"
   }
  }
 },
 "nbformat": 4,
 "nbformat_minor": 2
}
